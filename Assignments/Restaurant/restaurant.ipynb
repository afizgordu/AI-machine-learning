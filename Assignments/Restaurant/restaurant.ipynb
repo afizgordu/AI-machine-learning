{
 "cells": [
  {
   "cell_type": "code",
   "execution_count": 59,
   "metadata": {},
   "outputs": [],
   "source": [
    "import pandas as pd"
   ]
  },
  {
   "cell_type": "code",
   "execution_count": 60,
   "metadata": {},
   "outputs": [],
   "source": [
    "df = pd.read_csv(\"restaurant.csv\")"
   ]
  },
  {
   "cell_type": "code",
   "execution_count": 61,
   "metadata": {},
   "outputs": [],
   "source": [
    "#df.to_excel(\"restaurant.xlsx\")"
   ]
  },
  {
   "cell_type": "code",
   "execution_count": 62,
   "metadata": {},
   "outputs": [
    {
     "data": {
      "text/plain": [
       "(10417, 10)"
      ]
     },
     "execution_count": 62,
     "metadata": {},
     "output_type": "execute_result"
    }
   ],
   "source": [
    "df.shape"
   ]
  },
  {
   "cell_type": "code",
   "execution_count": 63,
   "metadata": {},
   "outputs": [
    {
     "name": "stdout",
     "output_type": "stream",
     "text": [
      "<class 'pandas.core.frame.DataFrame'>\n",
      "RangeIndex: 10417 entries, 0 to 10416\n",
      "Data columns (total 10 columns):\n",
      " #   Column       Non-Null Count  Dtype \n",
      "---  ------       --------------  ----- \n",
      " 0   Unnamed: 0   10417 non-null  int64 \n",
      " 1   review_id    10417 non-null  object\n",
      " 2   user_id      10417 non-null  object\n",
      " 3   business_id  10417 non-null  object\n",
      " 4   stars        10417 non-null  int64 \n",
      " 5   useful       10417 non-null  int64 \n",
      " 6   funny        10417 non-null  int64 \n",
      " 7   cool         10417 non-null  int64 \n",
      " 8   text         10417 non-null  object\n",
      " 9   date         10417 non-null  object\n",
      "dtypes: int64(5), object(5)\n",
      "memory usage: 814.0+ KB\n"
     ]
    }
   ],
   "source": [
    "df.info()"
   ]
  },
  {
   "cell_type": "code",
   "execution_count": 64,
   "metadata": {},
   "outputs": [
    {
     "data": {
      "text/plain": [
       "user_id\n",
       "otT6RSZdIuYjS9vKR4r-tA    5\n",
       "8vUe6yBzKD-GsejC9tCrGA    5\n",
       "EipwmwToR90iinI5aCQoxQ    4\n",
       "J18ol0RI1TuyqGKFZJfh3w    3\n",
       "ENtSjbekFHjltp2TFkstHg    3\n",
       "                         ..\n",
       "L5_8oviH2I6ltKqH517unA    1\n",
       "Y8tEMLFqm1d0se6-sQgJeQ    1\n",
       "uBSluCK4jkFqebkqM2rGdA    1\n",
       "sjHzODLt7FKi1hvjkYalBA    1\n",
       "GsALS1y9wJoBRJTEzJiISg    1\n",
       "Name: count, Length: 10129, dtype: int64"
      ]
     },
     "execution_count": 64,
     "metadata": {},
     "output_type": "execute_result"
    }
   ],
   "source": [
    "df[\"user_id\"].value_counts()"
   ]
  },
  {
   "cell_type": "code",
   "execution_count": 65,
   "metadata": {},
   "outputs": [
    {
     "data": {
      "text/html": [
       "<div>\n",
       "<style scoped>\n",
       "    .dataframe tbody tr th:only-of-type {\n",
       "        vertical-align: middle;\n",
       "    }\n",
       "\n",
       "    .dataframe tbody tr th {\n",
       "        vertical-align: top;\n",
       "    }\n",
       "\n",
       "    .dataframe thead th {\n",
       "        text-align: right;\n",
       "    }\n",
       "</style>\n",
       "<table border=\"1\" class=\"dataframe\">\n",
       "  <thead>\n",
       "    <tr style=\"text-align: right;\">\n",
       "      <th></th>\n",
       "      <th>Unnamed: 0</th>\n",
       "      <th>review_id</th>\n",
       "      <th>user_id</th>\n",
       "      <th>business_id</th>\n",
       "      <th>stars</th>\n",
       "      <th>useful</th>\n",
       "      <th>funny</th>\n",
       "      <th>cool</th>\n",
       "      <th>text</th>\n",
       "      <th>date</th>\n",
       "    </tr>\n",
       "  </thead>\n",
       "  <tbody>\n",
       "    <tr>\n",
       "      <th>0</th>\n",
       "      <td>2370338</td>\n",
       "      <td>_WTGv5XnA-qb_XD1D7Z0jg</td>\n",
       "      <td>6PgdGb3HrZdsfl2GiULo8w</td>\n",
       "      <td>RESDUcs7fIiihp38-d6_6g</td>\n",
       "      <td>5</td>\n",
       "      <td>0</td>\n",
       "      <td>1</td>\n",
       "      <td>0</td>\n",
       "      <td>After getting food poisoning at the Palms hote...</td>\n",
       "      <td>2012-12-04 03:10:18</td>\n",
       "    </tr>\n",
       "    <tr>\n",
       "      <th>1</th>\n",
       "      <td>2370357</td>\n",
       "      <td>JlNnsvMPLK_1-X2hwzK24w</td>\n",
       "      <td>IS9yw8P2uAPBX6FNLLX4KA</td>\n",
       "      <td>RESDUcs7fIiihp38-d6_6g</td>\n",
       "      <td>4</td>\n",
       "      <td>39</td>\n",
       "      <td>21</td>\n",
       "      <td>29</td>\n",
       "      <td>\"A feast worthy of Gods\"\\n\\nBaccarnal Buffet i...</td>\n",
       "      <td>2014-01-17 00:50:50</td>\n",
       "    </tr>\n",
       "    <tr>\n",
       "      <th>2</th>\n",
       "      <td>2370373</td>\n",
       "      <td>hBkoWffORRb6aqKhC_Li2A</td>\n",
       "      <td>uZdFsE_aHbFBChgN6Xa8tw</td>\n",
       "      <td>RESDUcs7fIiihp38-d6_6g</td>\n",
       "      <td>4</td>\n",
       "      <td>1</td>\n",
       "      <td>1</td>\n",
       "      <td>1</td>\n",
       "      <td>The crab legs are better than the ones at Wick...</td>\n",
       "      <td>2015-06-08 18:03:09</td>\n",
       "    </tr>\n",
       "    <tr>\n",
       "      <th>3</th>\n",
       "      <td>2370411</td>\n",
       "      <td>rbkxvrgZg5kdCL2a66QYmA</td>\n",
       "      <td>8ZWJNAEWsymXDzKx3B0tTQ</td>\n",
       "      <td>RESDUcs7fIiihp38-d6_6g</td>\n",
       "      <td>1</td>\n",
       "      <td>0</td>\n",
       "      <td>0</td>\n",
       "      <td>0</td>\n",
       "      <td>Not worth it! Too salty food and expensive! Th...</td>\n",
       "      <td>2016-12-19 16:15:29</td>\n",
       "    </tr>\n",
       "    <tr>\n",
       "      <th>4</th>\n",
       "      <td>2370500</td>\n",
       "      <td>5tw_pedoHVi9bgeiBNsISg</td>\n",
       "      <td>E0sm4Ve7ifanFYeQMcV8Eg</td>\n",
       "      <td>RESDUcs7fIiihp38-d6_6g</td>\n",
       "      <td>5</td>\n",
       "      <td>0</td>\n",
       "      <td>0</td>\n",
       "      <td>0</td>\n",
       "      <td>I would give this infinite stars if I could. M...</td>\n",
       "      <td>2015-07-28 07:13:17</td>\n",
       "    </tr>\n",
       "  </tbody>\n",
       "</table>\n",
       "</div>"
      ],
      "text/plain": [
       "   Unnamed: 0               review_id                 user_id  \\\n",
       "0     2370338  _WTGv5XnA-qb_XD1D7Z0jg  6PgdGb3HrZdsfl2GiULo8w   \n",
       "1     2370357  JlNnsvMPLK_1-X2hwzK24w  IS9yw8P2uAPBX6FNLLX4KA   \n",
       "2     2370373  hBkoWffORRb6aqKhC_Li2A  uZdFsE_aHbFBChgN6Xa8tw   \n",
       "3     2370411  rbkxvrgZg5kdCL2a66QYmA  8ZWJNAEWsymXDzKx3B0tTQ   \n",
       "4     2370500  5tw_pedoHVi9bgeiBNsISg  E0sm4Ve7ifanFYeQMcV8Eg   \n",
       "\n",
       "              business_id  stars  useful  funny  cool  \\\n",
       "0  RESDUcs7fIiihp38-d6_6g      5       0      1     0   \n",
       "1  RESDUcs7fIiihp38-d6_6g      4      39     21    29   \n",
       "2  RESDUcs7fIiihp38-d6_6g      4       1      1     1   \n",
       "3  RESDUcs7fIiihp38-d6_6g      1       0      0     0   \n",
       "4  RESDUcs7fIiihp38-d6_6g      5       0      0     0   \n",
       "\n",
       "                                                text                 date  \n",
       "0  After getting food poisoning at the Palms hote...  2012-12-04 03:10:18  \n",
       "1  \"A feast worthy of Gods\"\\n\\nBaccarnal Buffet i...  2014-01-17 00:50:50  \n",
       "2  The crab legs are better than the ones at Wick...  2015-06-08 18:03:09  \n",
       "3  Not worth it! Too salty food and expensive! Th...  2016-12-19 16:15:29  \n",
       "4  I would give this infinite stars if I could. M...  2015-07-28 07:13:17  "
      ]
     },
     "execution_count": 65,
     "metadata": {},
     "output_type": "execute_result"
    }
   ],
   "source": [
    "df.head()"
   ]
  },
  {
   "cell_type": "code",
   "execution_count": 66,
   "metadata": {},
   "outputs": [
    {
     "data": {
      "text/plain": [
       "10129"
      ]
     },
     "execution_count": 66,
     "metadata": {},
     "output_type": "execute_result"
    }
   ],
   "source": [
    "df[\"user_id\"].nunique()"
   ]
  },
  {
   "cell_type": "code",
   "execution_count": 67,
   "metadata": {},
   "outputs": [
    {
     "data": {
      "text/plain": [
       "stars     0\n",
       "useful    0\n",
       "funny     0\n",
       "cool      0\n",
       "text      0\n",
       "date      0\n",
       "dtype: int64"
      ]
     },
     "execution_count": 67,
     "metadata": {},
     "output_type": "execute_result"
    }
   ],
   "source": [
    "#drop Unnamed: 0\t, review_id, business_id columns from df\n",
    "\n",
    "df.drop(columns=[\"Unnamed: 0\", \"review_id\", \"business_id\",\"user_id\"], inplace=True)\n",
    "df.isnull().sum()"
   ]
  },
  {
   "cell_type": "code",
   "execution_count": 68,
   "metadata": {},
   "outputs": [
    {
     "data": {
      "text/html": [
       "<div>\n",
       "<style scoped>\n",
       "    .dataframe tbody tr th:only-of-type {\n",
       "        vertical-align: middle;\n",
       "    }\n",
       "\n",
       "    .dataframe tbody tr th {\n",
       "        vertical-align: top;\n",
       "    }\n",
       "\n",
       "    .dataframe thead th {\n",
       "        text-align: right;\n",
       "    }\n",
       "</style>\n",
       "<table border=\"1\" class=\"dataframe\">\n",
       "  <thead>\n",
       "    <tr style=\"text-align: right;\">\n",
       "      <th></th>\n",
       "      <th>stars</th>\n",
       "      <th>useful</th>\n",
       "      <th>funny</th>\n",
       "      <th>cool</th>\n",
       "      <th>text</th>\n",
       "      <th>date</th>\n",
       "    </tr>\n",
       "  </thead>\n",
       "  <tbody>\n",
       "    <tr>\n",
       "      <th>0</th>\n",
       "      <td>5</td>\n",
       "      <td>0</td>\n",
       "      <td>1</td>\n",
       "      <td>0</td>\n",
       "      <td>After getting food poisoning at the Palms hote...</td>\n",
       "      <td>2012-12-04 03:10:18</td>\n",
       "    </tr>\n",
       "    <tr>\n",
       "      <th>1</th>\n",
       "      <td>4</td>\n",
       "      <td>39</td>\n",
       "      <td>21</td>\n",
       "      <td>29</td>\n",
       "      <td>\"A feast worthy of Gods\"\\n\\nBaccarnal Buffet i...</td>\n",
       "      <td>2014-01-17 00:50:50</td>\n",
       "    </tr>\n",
       "    <tr>\n",
       "      <th>2</th>\n",
       "      <td>4</td>\n",
       "      <td>1</td>\n",
       "      <td>1</td>\n",
       "      <td>1</td>\n",
       "      <td>The crab legs are better than the ones at Wick...</td>\n",
       "      <td>2015-06-08 18:03:09</td>\n",
       "    </tr>\n",
       "    <tr>\n",
       "      <th>3</th>\n",
       "      <td>1</td>\n",
       "      <td>0</td>\n",
       "      <td>0</td>\n",
       "      <td>0</td>\n",
       "      <td>Not worth it! Too salty food and expensive! Th...</td>\n",
       "      <td>2016-12-19 16:15:29</td>\n",
       "    </tr>\n",
       "    <tr>\n",
       "      <th>4</th>\n",
       "      <td>5</td>\n",
       "      <td>0</td>\n",
       "      <td>0</td>\n",
       "      <td>0</td>\n",
       "      <td>I would give this infinite stars if I could. M...</td>\n",
       "      <td>2015-07-28 07:13:17</td>\n",
       "    </tr>\n",
       "  </tbody>\n",
       "</table>\n",
       "</div>"
      ],
      "text/plain": [
       "   stars  useful  funny  cool  \\\n",
       "0      5       0      1     0   \n",
       "1      4      39     21    29   \n",
       "2      4       1      1     1   \n",
       "3      1       0      0     0   \n",
       "4      5       0      0     0   \n",
       "\n",
       "                                                text                 date  \n",
       "0  After getting food poisoning at the Palms hote...  2012-12-04 03:10:18  \n",
       "1  \"A feast worthy of Gods\"\\n\\nBaccarnal Buffet i...  2014-01-17 00:50:50  \n",
       "2  The crab legs are better than the ones at Wick...  2015-06-08 18:03:09  \n",
       "3  Not worth it! Too salty food and expensive! Th...  2016-12-19 16:15:29  \n",
       "4  I would give this infinite stars if I could. M...  2015-07-28 07:13:17  "
      ]
     },
     "execution_count": 68,
     "metadata": {},
     "output_type": "execute_result"
    }
   ],
   "source": [
    "df.head()"
   ]
  },
  {
   "cell_type": "code",
   "execution_count": 70,
   "metadata": {},
   "outputs": [],
   "source": [
    "#create 3 columns that year and month and day and hour from date column and drop date column\n",
    "\n",
    "df[\"year\"] = pd.to_datetime(df[\"date\"]).dt.year\n",
    "df[\"month\"] = pd.to_datetime(df[\"date\"]).dt.month\n",
    "df[\"day\"] = pd.to_datetime(df[\"date\"]).dt.day\n",
    "df[\"hour\"] = pd.to_datetime(df[\"date\"]).dt.hour\n",
    "df.drop(columns=[\"date\"], inplace=True)"
   ]
  },
  {
   "cell_type": "code",
   "execution_count": 73,
   "metadata": {},
   "outputs": [
    {
     "data": {
      "text/html": [
       "<div>\n",
       "<style scoped>\n",
       "    .dataframe tbody tr th:only-of-type {\n",
       "        vertical-align: middle;\n",
       "    }\n",
       "\n",
       "    .dataframe tbody tr th {\n",
       "        vertical-align: top;\n",
       "    }\n",
       "\n",
       "    .dataframe thead th {\n",
       "        text-align: right;\n",
       "    }\n",
       "</style>\n",
       "<table border=\"1\" class=\"dataframe\">\n",
       "  <thead>\n",
       "    <tr style=\"text-align: right;\">\n",
       "      <th></th>\n",
       "      <th>stars</th>\n",
       "      <th>useful</th>\n",
       "      <th>funny</th>\n",
       "      <th>cool</th>\n",
       "      <th>text</th>\n",
       "      <th>year</th>\n",
       "      <th>month</th>\n",
       "      <th>day</th>\n",
       "      <th>hour</th>\n",
       "    </tr>\n",
       "  </thead>\n",
       "  <tbody>\n",
       "    <tr>\n",
       "      <th>0</th>\n",
       "      <td>5</td>\n",
       "      <td>0</td>\n",
       "      <td>1</td>\n",
       "      <td>0</td>\n",
       "      <td>After getting food poisoning at the Palms hote...</td>\n",
       "      <td>2012</td>\n",
       "      <td>12</td>\n",
       "      <td>4</td>\n",
       "      <td>3</td>\n",
       "    </tr>\n",
       "    <tr>\n",
       "      <th>1</th>\n",
       "      <td>4</td>\n",
       "      <td>39</td>\n",
       "      <td>21</td>\n",
       "      <td>29</td>\n",
       "      <td>\"A feast worthy of Gods\"\\n\\nBaccarnal Buffet i...</td>\n",
       "      <td>2014</td>\n",
       "      <td>1</td>\n",
       "      <td>17</td>\n",
       "      <td>0</td>\n",
       "    </tr>\n",
       "    <tr>\n",
       "      <th>2</th>\n",
       "      <td>4</td>\n",
       "      <td>1</td>\n",
       "      <td>1</td>\n",
       "      <td>1</td>\n",
       "      <td>The crab legs are better than the ones at Wick...</td>\n",
       "      <td>2015</td>\n",
       "      <td>6</td>\n",
       "      <td>8</td>\n",
       "      <td>18</td>\n",
       "    </tr>\n",
       "    <tr>\n",
       "      <th>3</th>\n",
       "      <td>1</td>\n",
       "      <td>0</td>\n",
       "      <td>0</td>\n",
       "      <td>0</td>\n",
       "      <td>Not worth it! Too salty food and expensive! Th...</td>\n",
       "      <td>2016</td>\n",
       "      <td>12</td>\n",
       "      <td>19</td>\n",
       "      <td>16</td>\n",
       "    </tr>\n",
       "    <tr>\n",
       "      <th>4</th>\n",
       "      <td>5</td>\n",
       "      <td>0</td>\n",
       "      <td>0</td>\n",
       "      <td>0</td>\n",
       "      <td>I would give this infinite stars if I could. M...</td>\n",
       "      <td>2015</td>\n",
       "      <td>7</td>\n",
       "      <td>28</td>\n",
       "      <td>7</td>\n",
       "    </tr>\n",
       "  </tbody>\n",
       "</table>\n",
       "</div>"
      ],
      "text/plain": [
       "   stars  useful  funny  cool  \\\n",
       "0      5       0      1     0   \n",
       "1      4      39     21    29   \n",
       "2      4       1      1     1   \n",
       "3      1       0      0     0   \n",
       "4      5       0      0     0   \n",
       "\n",
       "                                                text  year  month  day  hour  \n",
       "0  After getting food poisoning at the Palms hote...  2012     12    4     3  \n",
       "1  \"A feast worthy of Gods\"\\n\\nBaccarnal Buffet i...  2014      1   17     0  \n",
       "2  The crab legs are better than the ones at Wick...  2015      6    8    18  \n",
       "3  Not worth it! Too salty food and expensive! Th...  2016     12   19    16  \n",
       "4  I would give this infinite stars if I could. M...  2015      7   28     7  "
      ]
     },
     "execution_count": 73,
     "metadata": {},
     "output_type": "execute_result"
    }
   ],
   "source": [
    "df.head()"
   ]
  }
 ],
 "metadata": {
  "kernelspec": {
   "display_name": "base",
   "language": "python",
   "name": "python3"
  },
  "language_info": {
   "codemirror_mode": {
    "name": "ipython",
    "version": 3
   },
   "file_extension": ".py",
   "mimetype": "text/x-python",
   "name": "python",
   "nbconvert_exporter": "python",
   "pygments_lexer": "ipython3",
   "version": "3.11.7"
  }
 },
 "nbformat": 4,
 "nbformat_minor": 2
}
