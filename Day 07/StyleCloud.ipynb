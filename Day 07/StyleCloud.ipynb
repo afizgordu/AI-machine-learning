{
 "cells": [
  {
   "cell_type": "code",
   "execution_count": 1,
   "metadata": {},
   "outputs": [],
   "source": [
    "#Style Cloud"
   ]
  },
  {
   "cell_type": "code",
   "execution_count": 41,
   "metadata": {},
   "outputs": [
    {
     "name": "stdout",
     "output_type": "stream",
     "text": [
      "Defaulting to user installation because normal site-packages is not writeable"
     ]
    },
    {
     "name": "stderr",
     "output_type": "stream",
     "text": [
      "  error: subprocess-exited-with-error"
     ]
    },
    {
     "name": "stdout",
     "output_type": "stream",
     "text": [
      "\n"
     ]
    },
    {
     "name": "stderr",
     "output_type": "stream",
     "text": [
      "\n"
     ]
    },
    {
     "name": "stdout",
     "output_type": "stream",
     "text": [
      "Collecting Pillow==8.4.0"
     ]
    },
    {
     "name": "stderr",
     "output_type": "stream",
     "text": [
      "  "
     ]
    },
    {
     "name": "stdout",
     "output_type": "stream",
     "text": [
      "\n",
      "  Using cached Pillow-8.4.0.tar.gz (49.4 MB)"
     ]
    },
    {
     "name": "stderr",
     "output_type": "stream",
     "text": [
      "\n"
     ]
    },
    {
     "name": "stdout",
     "output_type": "stream",
     "text": [
      "\n"
     ]
    },
    {
     "name": "stderr",
     "output_type": "stream",
     "text": [
      "  × python setup.py bdist_wheel did not run successfully."
     ]
    },
    {
     "name": "stdout",
     "output_type": "stream",
     "text": [
      "  Preparing metadata (setup.py): started\n"
     ]
    },
    {
     "name": "stderr",
     "output_type": "stream",
     "text": [
      "\n",
      "  │ exit code: 1"
     ]
    },
    {
     "name": "stdout",
     "output_type": "stream",
     "text": [
      "  Preparing metadata (setup.py): finished with status 'done'"
     ]
    },
    {
     "name": "stderr",
     "output_type": "stream",
     "text": [
      "\n"
     ]
    },
    {
     "name": "stdout",
     "output_type": "stream",
     "text": [
      "\n",
      "Building wheels for collected packages: Pillow"
     ]
    },
    {
     "name": "stderr",
     "output_type": "stream",
     "text": [
      "  ╰─> [187 lines of output]\n",
      "      running bdist_wheel"
     ]
    },
    {
     "name": "stdout",
     "output_type": "stream",
     "text": [
      "\n"
     ]
    },
    {
     "name": "stderr",
     "output_type": "stream",
     "text": [
      "\n"
     ]
    },
    {
     "name": "stdout",
     "output_type": "stream",
     "text": [
      "  Building wheel for Pillow (setup.py): started\n"
     ]
    },
    {
     "name": "stderr",
     "output_type": "stream",
     "text": [
      "      running build"
     ]
    },
    {
     "name": "stdout",
     "output_type": "stream",
     "text": [
      "  Building wheel for Pillow (setup.py): finished with status 'error'"
     ]
    },
    {
     "name": "stderr",
     "output_type": "stream",
     "text": [
      "\n"
     ]
    },
    {
     "name": "stdout",
     "output_type": "stream",
     "text": [
      "\n"
     ]
    },
    {
     "name": "stderr",
     "output_type": "stream",
     "text": [
      "      running build_py"
     ]
    },
    {
     "name": "stdout",
     "output_type": "stream",
     "text": [
      "  Running setup.py clean for Pillow"
     ]
    },
    {
     "name": "stderr",
     "output_type": "stream",
     "text": [
      "\n"
     ]
    },
    {
     "name": "stdout",
     "output_type": "stream",
     "text": [
      "\n"
     ]
    },
    {
     "name": "stderr",
     "output_type": "stream",
     "text": [
      "      creating build"
     ]
    },
    {
     "name": "stdout",
     "output_type": "stream",
     "text": [
      "Failed to build Pillow\n"
     ]
    },
    {
     "name": "stderr",
     "output_type": "stream",
     "text": [
      "\n",
      "      creating build\\lib.win-amd64-cpython-311\n",
      "      creating build\\lib.win-amd64-cpython-311\\PIL\n"
     ]
    },
    {
     "name": "stdout",
     "output_type": "stream",
     "text": [
      "Note: you may need to restart the kernel to use updated packages.\n"
     ]
    },
    {
     "name": "stderr",
     "output_type": "stream",
     "text": [
      "      copying src\\PIL\\BdfFontFile.py -> build\\lib.win-amd64-cpython-311\\PIL\n",
      "      copying src\\PIL\\BlpImagePlugin.py -> build\\lib.win-amd64-cpython-311\\PIL\n",
      "      copying src\\PIL\\BmpImagePlugin.py -> build\\lib.win-amd64-cpython-311\\PIL\n",
      "      copying src\\PIL\\BufrStubImagePlugin.py -> build\\lib.win-amd64-cpython-311\\PIL\n",
      "      copying src\\PIL\\ContainerIO.py -> build\\lib.win-amd64-cpython-311\\PIL"
     ]
    },
    {
     "name": "stderr",
     "output_type": "stream",
     "text": [
      "\n",
      "      copying src\\PIL\\CurImagePlugin.py -> build\\lib.win-amd64-cpython-311\\PIL\n",
      "      copying src\\PIL\\DcxImagePlugin.py -> build\\lib.win-amd64-cpython-311\\PIL\n",
      "      copying src\\PIL\\DdsImagePlugin.py -> build\\lib.win-amd64-cpython-311\\PIL\n",
      "      copying src\\PIL\\EpsImagePlugin.py -> build\\lib.win-amd64-cpython-311\\PIL\n",
      "      copying src\\PIL\\ExifTags.py -> build\\lib.win-amd64-cpython-311\\PIL\n",
      "      copying src\\PIL\\features.py -> build\\lib.win-amd64-cpython-311\\PIL\n",
      "      copying src\\PIL\\FitsStubImagePlugin.py -> build\\lib.win-amd64-cpython-311\\PIL\n",
      "      copying src\\PIL\\FliImagePlugin.py -> build\\lib.win-amd64-cpython-311\\PIL\n",
      "      copying src\\PIL\\FontFile.py -> build\\lib.win-amd64-cpython-311\\PIL\n",
      "      copying src\\PIL\\FpxImagePlugin.py -> build\\lib.win-amd64-cpython-311\\PIL\n",
      "      copying src\\PIL\\FtexImagePlugin.py -> build\\lib.win-amd64-cpython-311\\PIL\n",
      "      copying src\\PIL\\GbrImagePlugin.py -> build\\lib.win-amd64-cpython-311\\PIL\n",
      "      copying src\\PIL\\GdImageFile.py -> build\\lib.win-amd64-cpython-311\\PIL\n",
      "      copying src\\PIL\\GifImagePlugin.py -> build\\lib.win-amd64-cpython-311\\PIL\n",
      "      copying src\\PIL\\GimpGradientFile.py -> build\\lib.win-amd64-cpython-311\\PIL\n",
      "      copying src\\PIL\\GimpPaletteFile.py -> build\\lib.win-amd64-cpython-311\\PIL\n",
      "      copying src\\PIL\\GribStubImagePlugin.py -> build\\lib.win-amd64-cpython-311\\PIL\n",
      "      copying src\\PIL\\Hdf5StubImagePlugin.py -> build\\lib.win-amd64-cpython-311\\PIL\n",
      "      copying src\\PIL\\IcnsImagePlugin.py -> build\\lib.win-amd64-cpython-311\\PIL\n",
      "      copying src\\PIL\\IcoImagePlugin.py -> build\\lib.win-amd64-cpython-311\\PIL\n",
      "      copying src\\PIL\\Image.py -> build\\lib.win-amd64-cpython-311\\PIL\n",
      "      copying src\\PIL\\ImageChops.py -> build\\lib.win-amd64-cpython-311\\PIL\n",
      "      copying src\\PIL\\ImageCms.py -> build\\lib.win-amd64-cpython-311\\PIL\n",
      "      copying src\\PIL\\ImageColor.py -> build\\lib.win-amd64-cpython-311\\PIL\n",
      "      copying src\\PIL\\ImageDraw.py -> build\\lib.win-amd64-cpython-311\\PIL\n",
      "      copying src\\PIL\\ImageDraw2.py -> build\\lib.win-amd64-cpython-311\\PIL\n",
      "      copying src\\PIL\\ImageEnhance.py -> build\\lib.win-amd64-cpython-311\\PIL\n",
      "      copying src\\PIL\\ImageFile.py -> build\\lib.win-amd64-cpython-311\\PIL\n",
      "      copying src\\PIL\\ImageFilter.py -> build\\lib.win-amd64-cpython-311\\PIL\n",
      "      copying src\\PIL\\ImageFont.py -> build\\lib.win-amd64-cpython-311\\PIL\n",
      "      copying src\\PIL\\ImageGrab.py -> build\\lib.win-amd64-cpython-311\\PIL\n",
      "      copying src\\PIL\\ImageMath.py -> build\\lib.win-amd64-cpython-311\\PIL\n",
      "      copying src\\PIL\\ImageMode.py -> build\\lib.win-amd64-cpython-311\\PIL\n",
      "      copying src\\PIL\\ImageMorph.py -> build\\lib.win-amd64-cpython-311\\PIL\n",
      "      copying src\\PIL\\ImageOps.py -> build\\lib.win-amd64-cpython-311\\PIL\n",
      "      copying src\\PIL\\ImagePalette.py -> build\\lib.win-amd64-cpython-311\\PIL\n",
      "      copying src\\PIL\\ImagePath.py -> build\\lib.win-amd64-cpython-311\\PIL\n",
      "      copying src\\PIL\\ImageQt.py -> build\\lib.win-amd64-cpython-311\\PIL\n",
      "      copying src\\PIL\\ImageSequence.py -> build\\lib.win-amd64-cpython-311\\PIL\n",
      "      copying src\\PIL\\ImageShow.py -> build\\lib.win-amd64-cpython-311\\PIL\n",
      "      copying src\\PIL\\ImageStat.py -> build\\lib.win-amd64-cpython-311\\PIL\n",
      "      copying src\\PIL\\ImageTk.py -> build\\lib.win-amd64-cpython-311\\PIL\n",
      "      copying src\\PIL\\ImageTransform.py -> build\\lib.win-amd64-cpython-311\\PIL\n",
      "      copying src\\PIL\\ImageWin.py -> build\\lib.win-amd64-cpython-311\\PIL\n",
      "      copying src\\PIL\\ImImagePlugin.py -> build\\lib.win-amd64-cpython-311\\PIL\n",
      "      copying src\\PIL\\ImtImagePlugin.py -> build\\lib.win-amd64-cpython-311\\PIL\n",
      "      copying src\\PIL\\IptcImagePlugin.py -> build\\lib.win-amd64-cpython-311\\PIL\n",
      "      copying src\\PIL\\Jpeg2KImagePlugin.py -> build\\lib.win-amd64-cpython-311\\PIL\n",
      "      copying src\\PIL\\JpegImagePlugin.py -> build\\lib.win-amd64-cpython-311\\PIL\n",
      "      copying src\\PIL\\JpegPresets.py -> build\\lib.win-amd64-cpython-311\\PIL\n",
      "      copying src\\PIL\\McIdasImagePlugin.py -> build\\lib.win-amd64-cpython-311\\PIL\n",
      "      copying src\\PIL\\MicImagePlugin.py -> build\\lib.win-amd64-cpython-311\\PIL\n",
      "      copying src\\PIL\\MpegImagePlugin.py -> build\\lib.win-amd64-cpython-311\\PIL\n",
      "      copying src\\PIL\\MpoImagePlugin.py -> build\\lib.win-amd64-cpython-311\\PIL\n",
      "      copying src\\PIL\\MspImagePlugin.py -> build\\lib.win-amd64-cpython-311\\PIL\n",
      "      copying src\\PIL\\PaletteFile.py -> build\\lib.win-amd64-cpython-311\\PIL\n",
      "      copying src\\PIL\\PalmImagePlugin.py -> build\\lib.win-amd64-cpython-311\\PIL\n",
      "      copying src\\PIL\\PcdImagePlugin.py -> build\\lib.win-amd64-cpython-311\\PIL\n",
      "      copying src\\PIL\\PcfFontFile.py -> build\\lib.win-amd64-cpython-311\\PIL\n",
      "      copying src\\PIL\\PcxImagePlugin.py -> build\\lib.win-amd64-cpython-311\\PIL\n",
      "      copying src\\PIL\\PdfImagePlugin.py -> build\\lib.win-amd64-cpython-311\\PIL\n",
      "      copying src\\PIL\\PdfParser.py -> build\\lib.win-amd64-cpython-311\\PIL\n",
      "      copying src\\PIL\\PixarImagePlugin.py -> build\\lib.win-amd64-cpython-311\\PIL\n",
      "      copying src\\PIL\\PngImagePlugin.py -> build\\lib.win-amd64-cpython-311\\PIL\n",
      "      copying src\\PIL\\PpmImagePlugin.py -> build\\lib.win-amd64-cpython-311\\PIL\n",
      "      copying src\\PIL\\PsdImagePlugin.py -> build\\lib.win-amd64-cpython-311\\PIL\n",
      "      copying src\\PIL\\PSDraw.py -> build\\lib.win-amd64-cpython-311\\PIL\n",
      "      copying src\\PIL\\PyAccess.py -> build\\lib.win-amd64-cpython-311\\PIL\n",
      "      copying src\\PIL\\SgiImagePlugin.py -> build\\lib.win-amd64-cpython-311\\PIL\n",
      "      copying src\\PIL\\SpiderImagePlugin.py -> build\\lib.win-amd64-cpython-311\\PIL\n",
      "      copying src\\PIL\\SunImagePlugin.py -> build\\lib.win-amd64-cpython-311\\PIL\n",
      "      copying src\\PIL\\TarIO.py -> build\\lib.win-amd64-cpython-311\\PIL\n",
      "      copying src\\PIL\\TgaImagePlugin.py -> build\\lib.win-amd64-cpython-311\\PIL\n",
      "      copying src\\PIL\\TiffImagePlugin.py -> build\\lib.win-amd64-cpython-311\\PIL\n",
      "      copying src\\PIL\\TiffTags.py -> build\\lib.win-amd64-cpython-311\\PIL\n",
      "      copying src\\PIL\\WalImageFile.py -> build\\lib.win-amd64-cpython-311\\PIL\n",
      "      copying src\\PIL\\WebPImagePlugin.py -> build\\lib.win-amd64-cpython-311\\PIL\n",
      "      copying src\\PIL\\WmfImagePlugin.py -> build\\lib.win-amd64-cpython-311\\PIL\n",
      "      copying src\\PIL\\XbmImagePlugin.py -> build\\lib.win-amd64-cpython-311\\PIL\n",
      "      copying src\\PIL\\XpmImagePlugin.py -> build\\lib.win-amd64-cpython-311\\PIL\n",
      "      copying src\\PIL\\XVThumbImagePlugin.py -> build\\lib.win-amd64-cpython-311\\PIL\n",
      "      copying src\\PIL\\_binary.py -> build\\lib.win-amd64-cpython-311\\PIL\n",
      "      copying src\\PIL\\_tkinter_finder.py -> build\\lib.win-amd64-cpython-311\\PIL\n",
      "      copying src\\PIL\\_util.py -> build\\lib.win-amd64-cpython-311\\PIL\n",
      "      copying src\\PIL\\_version.py -> build\\lib.win-amd64-cpython-311\\PIL\n",
      "      copying src\\PIL\\__init__.py -> build\\lib.win-amd64-cpython-311\\PIL\n",
      "      copying src\\PIL\\__main__.py -> build\\lib.win-amd64-cpython-311\\PIL\n",
      "      running egg_info\n",
      "      writing src\\Pillow.egg-info\\PKG-INFO\n",
      "      writing dependency_links to src\\Pillow.egg-info\\dependency_links.txt\n",
      "      writing top-level names to src\\Pillow.egg-info\\top_level.txt\n",
      "      reading manifest file 'src\\Pillow.egg-info\\SOURCES.txt'\n",
      "      reading manifest template 'MANIFEST.in'\n",
      "      warning: no files found matching '*.c'\n",
      "      warning: no files found matching '*.h'\n",
      "      warning: no files found matching '*.sh'\n",
      "      warning: no previously-included files found matching '.appveyor.yml'\n",
      "      warning: no previously-included files found matching '.clang-format'\n",
      "      warning: no previously-included files found matching '.coveragerc'\n",
      "      warning: no previously-included files found matching '.editorconfig'\n",
      "      warning: no previously-included files found matching '.readthedocs.yml'\n",
      "      warning: no previously-included files found matching 'codecov.yml'\n",
      "      warning: no previously-included files matching '.git*' found anywhere in distribution\n",
      "      warning: no previously-included files matching '*.pyc' found anywhere in distribution\n",
      "      warning: no previously-included files matching '*.so' found anywhere in distribution\n",
      "      no previously-included directories found matching '.ci'\n",
      "      adding license file 'LICENSE'\n",
      "      writing manifest file 'src\\Pillow.egg-info\\SOURCES.txt'\n",
      "      running build_ext\n",
      "      \n",
      "      \n",
      "      The headers or library files could not be found for zlib,\n",
      "      a required dependency when compiling Pillow from source.\n",
      "      \n",
      "      Please see the install instructions at:\n",
      "         https://pillow.readthedocs.io/en/latest/installation.html\n",
      "      \n",
      "      Traceback (most recent call last):\n",
      "        File \"C:\\Users\\Ramazan & Selma\\AppData\\Local\\Temp\\pip-install-j6slxjkf\\pillow_5de70140457a4ee9960df3a9d821ff80\\setup.py\", line 978, in <module>\n",
      "          setup(\n",
      "        File \"c:\\ProgramData\\anaconda3\\Lib\\site-packages\\setuptools\\__init__.py\", line 103, in setup\n",
      "          return distutils.core.setup(**attrs)\n",
      "                 ^^^^^^^^^^^^^^^^^^^^^^^^^^^^^\n",
      "        File \"c:\\ProgramData\\anaconda3\\Lib\\site-packages\\setuptools\\_distutils\\core.py\", line 185, in setup\n",
      "          return run_commands(dist)\n",
      "                 ^^^^^^^^^^^^^^^^^^\n",
      "        File \"c:\\ProgramData\\anaconda3\\Lib\\site-packages\\setuptools\\_distutils\\core.py\", line 201, in run_commands\n",
      "          dist.run_commands()\n",
      "        File \"c:\\ProgramData\\anaconda3\\Lib\\site-packages\\setuptools\\_distutils\\dist.py\", line 969, in run_commands\n",
      "          self.run_command(cmd)\n",
      "        File \"c:\\ProgramData\\anaconda3\\Lib\\site-packages\\setuptools\\dist.py\", line 989, in run_command\n",
      "          super().run_command(command)\n",
      "        File \"c:\\ProgramData\\anaconda3\\Lib\\site-packages\\setuptools\\_distutils\\dist.py\", line 988, in run_command\n",
      "          cmd_obj.run()\n",
      "        File \"c:\\ProgramData\\anaconda3\\Lib\\site-packages\\wheel\\bdist_wheel.py\", line 364, in run\n",
      "          self.run_command(\"build\")\n",
      "        File \"c:\\ProgramData\\anaconda3\\Lib\\site-packages\\setuptools\\_distutils\\cmd.py\", line 318, in run_command\n",
      "          self.distribution.run_command(command)\n",
      "        File \"c:\\ProgramData\\anaconda3\\Lib\\site-packages\\setuptools\\dist.py\", line 989, in run_command\n",
      "          super().run_command(command)\n",
      "        File \"c:\\ProgramData\\anaconda3\\Lib\\site-packages\\setuptools\\_distutils\\dist.py\", line 988, in run_command\n",
      "          cmd_obj.run()\n",
      "        File \"c:\\ProgramData\\anaconda3\\Lib\\site-packages\\setuptools\\_distutils\\command\\build.py\", line 131, in run\n",
      "          self.run_command(cmd_name)\n",
      "        File \"c:\\ProgramData\\anaconda3\\Lib\\site-packages\\setuptools\\_distutils\\cmd.py\", line 318, in run_command\n",
      "          self.distribution.run_command(command)\n",
      "        File \"c:\\ProgramData\\anaconda3\\Lib\\site-packages\\setuptools\\dist.py\", line 989, in run_command\n",
      "          super().run_command(command)\n",
      "        File \"c:\\ProgramData\\anaconda3\\Lib\\site-packages\\setuptools\\_distutils\\dist.py\", line 988, in run_command\n",
      "          cmd_obj.run()\n",
      "        File \"c:\\ProgramData\\anaconda3\\Lib\\site-packages\\setuptools\\command\\build_ext.py\", line 88, in run\n",
      "          _build_ext.run(self)\n",
      "        File \"c:\\ProgramData\\anaconda3\\Lib\\site-packages\\setuptools\\_distutils\\command\\build_ext.py\", line 345, in run\n",
      "          self.build_extensions()\n",
      "        File \"C:\\Users\\Ramazan & Selma\\AppData\\Local\\Temp\\pip-install-j6slxjkf\\pillow_5de70140457a4ee9960df3a9d821ff80\\setup.py\", line 790, in build_extensions\n",
      "          raise RequiredDependencyException(f)\n",
      "      RequiredDependencyException: zlib\n",
      "      \n",
      "      During handling of the above exception, another exception occurred:\n",
      "      \n",
      "      Traceback (most recent call last):\n",
      "        File \"<string>\", line 2, in <module>\n",
      "        File \"<pip-setuptools-caller>\", line 34, in <module>\n",
      "        File \"C:\\Users\\Ramazan & Selma\\AppData\\Local\\Temp\\pip-install-j6slxjkf\\pillow_5de70140457a4ee9960df3a9d821ff80\\setup.py\", line 1037, in <module>\n",
      "          raise RequiredDependencyException(msg)\n",
      "      RequiredDependencyException:\n",
      "      \n",
      "      The headers or library files could not be found for zlib,\n",
      "      a required dependency when compiling Pillow from source.\n",
      "      \n",
      "      Please see the install instructions at:\n",
      "         https://pillow.readthedocs.io/en/latest/installation.html\n",
      "      \n",
      "      \n",
      "      C:\\Users\\Ramazan & Selma\\AppData\\Local\\Temp\\pip-install-j6slxjkf\\pillow_5de70140457a4ee9960df3a9d821ff80\\setup.py:46: RuntimeWarning: Pillow 8.4.0 does not support Python 3.11 and does not provide prebuilt Windows binaries. We do not recommend building from source on Windows.\n",
      "        lambda: warnings.warn(\n",
      "      [end of output]\n",
      "  \n",
      "  note: This error originates from a subprocess, and is likely not a problem with pip.\n",
      "  ERROR: Failed building wheel for Pillow\n",
      "ERROR: Could not build wheels for Pillow, which is required to install pyproject.toml-based projects\n"
     ]
    }
   ],
   "source": [
    "pip install Pillow==8.4.0"
   ]
  },
  {
   "cell_type": "code",
   "execution_count": 36,
   "metadata": {},
   "outputs": [
    {
     "name": "stdout",
     "output_type": "stream",
     "text": [
      "Defaulting to user installation because normal site-packages is not writeable\n",
      "Requirement already satisfied: stylecloud in c:\\users\\ramazan & selma\\appdata\\roaming\\python\\python311\\site-packages (0.5.1)\n",
      "Requirement already satisfied: wordcloud in c:\\users\\ramazan & selma\\appdata\\roaming\\python\\python311\\site-packages (from stylecloud) (1.9.3)\n",
      "Requirement already satisfied: icon-font-to-png in c:\\users\\ramazan & selma\\appdata\\roaming\\python\\python311\\site-packages (from stylecloud) (0.4.1)\n",
      "Requirement already satisfied: palettable in c:\\users\\ramazan & selma\\appdata\\roaming\\python\\python311\\site-packages (from stylecloud) (3.3.3)\n",
      "Requirement already satisfied: fire in c:\\users\\ramazan & selma\\appdata\\roaming\\python\\python311\\site-packages (from stylecloud) (0.6.0)\n",
      "Requirement already satisfied: matplotlib in c:\\programdata\\anaconda3\\lib\\site-packages (from stylecloud) (3.8.0)\n",
      "Requirement already satisfied: six in c:\\programdata\\anaconda3\\lib\\site-packages (from fire->stylecloud) (1.16.0)Note: you may need to restart the kernel to use updated packages.\n",
      "Requirement already satisfied: termcolor in c:\\users\\ramazan & selma\\appdata\\roaming\\python\\python311\\site-packages (from fire->stylecloud) (2.4.0)\n",
      "\n",
      "Requirement already satisfied: Pillow>=4.0.0 in c:\\programdata\\anaconda3\\lib\\site-packages (from icon-font-to-png->stylecloud) (10.2.0)\n",
      "Requirement already satisfied: requests>=2.12.5 in c:\\programdata\\anaconda3\\lib\\site-packages (from icon-font-to-png->stylecloud) (2.31.0)\n",
      "Requirement already satisfied: tinycss>=0.4 in c:\\users\\ramazan & selma\\appdata\\roaming\\python\\python311\\site-packages (from icon-font-to-png->stylecloud) (0.4)\n",
      "Requirement already satisfied: contourpy>=1.0.1 in c:\\programdata\\anaconda3\\lib\\site-packages (from matplotlib->stylecloud) (1.2.0)\n",
      "Requirement already satisfied: cycler>=0.10 in c:\\programdata\\anaconda3\\lib\\site-packages (from matplotlib->stylecloud) (0.11.0)"
     ]
    },
    {
     "name": "stdout",
     "output_type": "stream",
     "text": [
      "\n",
      "Requirement already satisfied: fonttools>=4.22.0 in c:\\programdata\\anaconda3\\lib\\site-packages (from matplotlib->stylecloud) (4.25.0)\n",
      "Requirement already satisfied: kiwisolver>=1.0.1 in c:\\programdata\\anaconda3\\lib\\site-packages (from matplotlib->stylecloud) (1.4.4)\n",
      "Requirement already satisfied: numpy<2,>=1.21 in c:\\programdata\\anaconda3\\lib\\site-packages (from matplotlib->stylecloud) (1.26.4)\n",
      "Requirement already satisfied: packaging>=20.0 in c:\\users\\ramazan & selma\\appdata\\roaming\\python\\python311\\site-packages (from matplotlib->stylecloud) (24.1)\n",
      "Requirement already satisfied: pyparsing>=2.3.1 in c:\\programdata\\anaconda3\\lib\\site-packages (from matplotlib->stylecloud) (3.0.9)\n",
      "Requirement already satisfied: python-dateutil>=2.7 in c:\\programdata\\anaconda3\\lib\\site-packages (from matplotlib->stylecloud) (2.8.2)\n",
      "Requirement already satisfied: charset-normalizer<4,>=2 in c:\\programdata\\anaconda3\\lib\\site-packages (from requests>=2.12.5->icon-font-to-png->stylecloud) (2.0.4)\n",
      "Requirement already satisfied: idna<4,>=2.5 in c:\\users\\ramazan & selma\\appdata\\roaming\\python\\python311\\site-packages (from requests>=2.12.5->icon-font-to-png->stylecloud) (2.10)\n",
      "Requirement already satisfied: urllib3<3,>=1.21.1 in c:\\programdata\\anaconda3\\lib\\site-packages (from requests>=2.12.5->icon-font-to-png->stylecloud) (2.0.7)\n",
      "Requirement already satisfied: certifi>=2017.4.17 in c:\\programdata\\anaconda3\\lib\\site-packages (from requests>=2.12.5->icon-font-to-png->stylecloud) (2024.2.2)\n"
     ]
    }
   ],
   "source": [
    "pip install stylecloud"
   ]
  },
  {
   "cell_type": "code",
   "execution_count": 43,
   "metadata": {},
   "outputs": [],
   "source": [
    "import stylecloud as sc"
   ]
  },
  {
   "cell_type": "code",
   "execution_count": 44,
   "metadata": {},
   "outputs": [
    {
     "ename": "AttributeError",
     "evalue": "'ImageDraw' object has no attribute 'textsize'",
     "output_type": "error",
     "traceback": [
      "\u001b[1;31m---------------------------------------------------------------------------\u001b[0m",
      "\u001b[1;31mAttributeError\u001b[0m                            Traceback (most recent call last)",
      "Cell \u001b[1;32mIn[44], line 1\u001b[0m\n\u001b[1;32m----> 1\u001b[0m sc\u001b[38;5;241m.\u001b[39mgen_stylecloud(\u001b[38;5;124m\"\u001b[39m\u001b[38;5;124mchallenge.txt\u001b[39m\u001b[38;5;124m\"\u001b[39m,output_name\u001b[38;5;241m=\u001b[39m\u001b[38;5;124m\"\u001b[39m\u001b[38;5;124mch.png\u001b[39m\u001b[38;5;124m\"\u001b[39m)\n",
      "File \u001b[1;32m~\\AppData\\Roaming\\Python\\Python311\\site-packages\\stylecloud\\stylecloud.py:218\u001b[0m, in \u001b[0;36mgen_stylecloud\u001b[1;34m(text, file_path, size, icon_name, palette, colors, background_color, max_font_size, max_words, stopwords, custom_stopwords, add_stopwords, icon_dir, output_name, gradient, font_path, random_state, collocations, invert_mask, pro_icon_path, pro_css_path)\u001b[0m\n\u001b[0;32m    215\u001b[0m \u001b[38;5;28;01mif\u001b[39;00m file_path:\n\u001b[0;32m    216\u001b[0m     text \u001b[38;5;241m=\u001b[39m file_to_text(file_path)\n\u001b[1;32m--> 218\u001b[0m gen_fa_mask(icon_name, size, icon_dir, pro_icon_path, pro_css_path)\n\u001b[0;32m    220\u001b[0m \u001b[38;5;28;01mif\u001b[39;00m gradient \u001b[38;5;129;01mand\u001b[39;00m colors \u001b[38;5;129;01mis\u001b[39;00m \u001b[38;5;28;01mNone\u001b[39;00m:\n\u001b[0;32m    221\u001b[0m     pal_colors, mask_array \u001b[38;5;241m=\u001b[39m gen_gradient_mask(\n\u001b[0;32m    222\u001b[0m         size, palette, icon_dir, gradient, invert_mask\n\u001b[0;32m    223\u001b[0m     )\n",
      "File \u001b[1;32m~\\AppData\\Roaming\\Python\\Python311\\site-packages\\stylecloud\\stylecloud.py:76\u001b[0m, in \u001b[0;36mgen_fa_mask\u001b[1;34m(icon_name, size, icon_dir, pro_icon_path, pro_css_path)\u001b[0m\n\u001b[0;32m     73\u001b[0m \u001b[38;5;28;01mif\u001b[39;00m \u001b[38;5;28misinstance\u001b[39m(size, \u001b[38;5;28mtuple\u001b[39m):\n\u001b[0;32m     74\u001b[0m     size \u001b[38;5;241m=\u001b[39m \u001b[38;5;28mmin\u001b[39m(size)\n\u001b[1;32m---> 76\u001b[0m icon\u001b[38;5;241m.\u001b[39mexport_icon(\n\u001b[0;32m     77\u001b[0m     icon\u001b[38;5;241m=\u001b[39micon_name_raw[\u001b[38;5;28mlen\u001b[39m(icon\u001b[38;5;241m.\u001b[39mcommon_prefix) :],\n\u001b[0;32m     78\u001b[0m     size\u001b[38;5;241m=\u001b[39msize,\n\u001b[0;32m     79\u001b[0m     filename\u001b[38;5;241m=\u001b[39m\u001b[38;5;124m\"\u001b[39m\u001b[38;5;124micon.png\u001b[39m\u001b[38;5;124m\"\u001b[39m,\n\u001b[0;32m     80\u001b[0m     export_dir\u001b[38;5;241m=\u001b[39micon_dir,\n\u001b[0;32m     81\u001b[0m )\n",
      "File \u001b[1;32m~\\AppData\\Roaming\\Python\\Python311\\site-packages\\icon_font_to_png\\icon_font.py:107\u001b[0m, in \u001b[0;36mIconFont.export_icon\u001b[1;34m(self, icon, size, color, scale, filename, export_dir)\u001b[0m\n\u001b[0;32m    104\u001b[0m     scale_factor \u001b[38;5;241m=\u001b[39m \u001b[38;5;28mfloat\u001b[39m(scale)\n\u001b[0;32m    106\u001b[0m font \u001b[38;5;241m=\u001b[39m ImageFont\u001b[38;5;241m.\u001b[39mtruetype(\u001b[38;5;28mself\u001b[39m\u001b[38;5;241m.\u001b[39mttf_file, \u001b[38;5;28mint\u001b[39m(size \u001b[38;5;241m*\u001b[39m scale_factor))\n\u001b[1;32m--> 107\u001b[0m width, height \u001b[38;5;241m=\u001b[39m draw\u001b[38;5;241m.\u001b[39mtextsize(\u001b[38;5;28mself\u001b[39m\u001b[38;5;241m.\u001b[39mcss_icons[icon], font\u001b[38;5;241m=\u001b[39mfont)\n\u001b[0;32m    109\u001b[0m \u001b[38;5;66;03m# If auto-scaling is enabled, we need to make sure the resulting\u001b[39;00m\n\u001b[0;32m    110\u001b[0m \u001b[38;5;66;03m# graphic fits inside the boundary. The values are rounded and may be\u001b[39;00m\n\u001b[0;32m    111\u001b[0m \u001b[38;5;66;03m# off by a pixel or two, so we may need to do a few iterations.\u001b[39;00m\n\u001b[0;32m    112\u001b[0m \u001b[38;5;66;03m# The use of a decrementing multiplication factor protects us from\u001b[39;00m\n\u001b[0;32m    113\u001b[0m \u001b[38;5;66;03m# getting into an infinite loop.\u001b[39;00m\n\u001b[0;32m    114\u001b[0m \u001b[38;5;28;01mif\u001b[39;00m scale \u001b[38;5;241m==\u001b[39m \u001b[38;5;124m'\u001b[39m\u001b[38;5;124mauto\u001b[39m\u001b[38;5;124m'\u001b[39m:\n",
      "\u001b[1;31mAttributeError\u001b[0m: 'ImageDraw' object has no attribute 'textsize'"
     ]
    }
   ],
   "source": [
    "sc.gen_stylecloud(\"challenge.txt\",output_name=\"ch.png\")"
   ]
  },
  {
   "cell_type": "code",
   "execution_count": null,
   "metadata": {},
   "outputs": [],
   "source": []
  }
 ],
 "metadata": {
  "kernelspec": {
   "display_name": "base",
   "language": "python",
   "name": "python3"
  },
  "language_info": {
   "codemirror_mode": {
    "name": "ipython",
    "version": 3
   },
   "file_extension": ".py",
   "mimetype": "text/x-python",
   "name": "python",
   "nbconvert_exporter": "python",
   "pygments_lexer": "ipython3",
   "version": "3.11.7"
  }
 },
 "nbformat": 4,
 "nbformat_minor": 2
}
